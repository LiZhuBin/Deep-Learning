{
 "cells": [
  {
   "cell_type": "code",
   "execution_count": null,
   "metadata": {
    "id": "nMPTkY3Ielj0",
    "colab_type": "code",
    "colab": {}
   },
   "outputs": [],
   "source": [
    "import matplotlib.pyplot as plt\n",
    "import keras\n",
    "import numpy as np\n",
    "from keras.models import Sequential\n",
    "from keras.layers import Dense,Activation\n",
    "from keras.datasets import mnist\n",
    "np.random.seed(1337)\n",
    "from keras.utils import np_utils\n",
    "from keras.optimizers import RMSprop"
   ]
  },
  {
   "cell_type": "code",
   "execution_count": 0,
   "metadata": {
    "id": "nj0B6SFbfBKf",
    "colab_type": "code",
    "colab": {}
   },
   "outputs": [],
   "source": [
    "#data pre-processing\n",
    "(X_train,y_train),(X_test,y_test) = mnist.load_data()\n",
    "X_train =X_train.reshape(X_train.shape[0],-1)/255\n",
    "X_test = X_test.reshape(X_test.shape[0],-1)/255\n",
    "y_train = np_utils.to_categorical(y_train,10)\n",
    "y_test = np_utils.to_categorical(y_test,10)\n",
    "print(X_train)"
   ]
  },
  {
   "cell_type": "code",
   "execution_count": 0,
   "metadata": {
    "id": "4JLKbxacfWt0",
    "colab_type": "code",
    "colab": {}
   },
   "outputs": [],
   "source": [
    "#build neural net\n",
    "model = Sequential([\n",
    "    Dense(32,input_dim=784),\n",
    "    Activation('relu'),\n",
    "    Dense(10),\n",
    "    Activation('softmax')\n",
    "])"
   ]
  },
  {
   "cell_type": "code",
   "execution_count": 0,
   "metadata": {
    "id": "XWzDW1hEiAUa",
    "colab_type": "code",
    "colab": {}
   },
   "outputs": [],
   "source": [
    "#define optimizer\n",
    "rmsprop = RMSprop(lr=0.01,rho=0.9,epsilon=1e-08,decay=0.0)\n",
    "model.compile(\n",
    "  optimizer=rmsprop,\n",
    "  loss='categorical_crossentropy',\n",
    "  metrics=['accuracy'],)"
   ]
  },
  {
   "cell_type": "code",
   "execution_count": 0,
   "metadata": {
    "id": "-IrtND64iRqN",
    "colab_type": "code",
    "colab": {}
   },
   "outputs": [],
   "source": [
    "model.fit(X_train,y_train,epochs=2,batch_size=32)\n",
    "loss,accuracy = model.evaluate(X_test,y_test)\n",
    "print(\"test loss is\",loss)\n",
    "print(\"accuracy is\",accuracy)"
   ]
  },
  {
   "cell_type": "code",
   "execution_count": 0,
   "metadata": {
    "id": "8K5sk6ICjT1z",
    "colab_type": "code",
    "colab": {}
   },
   "outputs": [],
   "source": [
    ""
   ]
  }
 ],
 "metadata": {
  "colab": {
   "name": "Classifier.ipynb",
   "version": "0.3.2",
   "provenance": [],
   "collapsed_sections": []
  },
  "kernelspec": {
   "name": "python3",
   "display_name": "Python 3"
  }
 },
 "nbformat": 4,
 "nbformat_minor": 0
}
